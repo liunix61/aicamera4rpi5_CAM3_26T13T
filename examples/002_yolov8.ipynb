{
 "cells": [
  {
   "cell_type": "markdown",
   "metadata": {},
   "source": [
    "### Running YOLO Models on Hailo\n",
    "This notebook demonstrates running different flavors of YOLO models (e.g., image classification, object detection, pose estimation, and segmentation) \n",
    "using a unified codebase with DeGirum PySDK. Key features include:\n",
    "\n",
    "- Unified handling of YOLO model variants with minimal changes to the code.\n",
    "- Flexible selection of inference host (cloud or local) and model zoo location.\n",
    "- Seamless output visualization, regardless of the specific YOLO model used.\n",
    "\n",
    "Simply uncomment a model of your choice, provide the necessary configurations, and run the code block \n",
    "to perform inference and visualize the results."
   ]
  },
  {
   "cell_type": "code",
   "execution_count": null,
   "metadata": {},
   "outputs": [],
   "source": [
    "import degirum as dg, degirum_tools\n",
    "\n",
    "inference_host_address = \"@local\"\n",
    "zoo_url = 'degirum/hailo'\n",
    "token=''\n",
    "device_type=['HAILORT/HAILO8L']\n",
    "\n",
    "# choose a model to run inference on by uncommenting one of the following lines\n",
    "model_name = \"yolov8n_relu6_coco--640x640_quant_hailort_hailo8l_1\"\n",
    "# model_name = \"yolov8n_relu6_coco_pose--640x640_quant_hailort_hailo8l_1\"\n",
    "# model_name = \"yolov8n_relu6_coco_seg--640x640_quant_hailort_hailo8l_1\"\n",
    "# model_name = \"yolov8s_silu_imagenet--224x224_quant_hailort_hailo8l_1\"\n",
    "\n",
    "# choose image source\n",
    "image_source = \"../assets/ThreePersons.jpg\"\n",
    "\n",
    "# load AI model\n",
    "model = dg.load_model(\n",
    "    model_name=model_name,\n",
    "    inference_host_address=inference_host_address,\n",
    "    zoo_url=zoo_url,\n",
    "    token=token,\n",
    "    device_type=device_type\n",
    ")\n",
    "\n",
    "# perform AI model inference on given image source\n",
    "print(f\" Running inference using '{model_name}' on image source '{image_source}'\")\n",
    "inference_result = model(image_source)\n",
    "\n",
    "# print('Inference Results \\n', inference_result)  # numeric results\n",
    "print(inference_result)\n",
    "print(\"Press 'x' or 'q' to stop.\")\n",
    "\n",
    "# show results of inference\n",
    "with degirum_tools.Display(\"AI Camera\") as output_display:\n",
    "    output_display.show_image(inference_result.image_overlay)"
   ]
  }
 ],
 "metadata": {
  "kernelspec": {
   "display_name": "supervision",
   "language": "python",
   "name": "python3"
  },
  "language_info": {
   "codemirror_mode": {
    "name": "ipython",
    "version": 3
   },
   "file_extension": ".py",
   "mimetype": "text/x-python",
   "name": "python",
   "nbconvert_exporter": "python",
   "pygments_lexer": "ipython3",
   "version": "3.9.18"
  }
 },
 "nbformat": 4,
 "nbformat_minor": 2
}
