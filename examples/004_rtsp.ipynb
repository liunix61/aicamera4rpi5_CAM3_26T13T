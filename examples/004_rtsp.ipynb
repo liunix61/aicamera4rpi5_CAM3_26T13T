{
 "cells": [
  {
   "cell_type": "markdown",
   "metadata": {},
   "source": [
    "## Object Detection on RTSP Stream with DeGirum PySDK\n",
    "\n",
    "This notebook demonstrates real-time object detection using DeGirum PySDK on Hailo hardware with a video stream. Simply specify the URL for your RTSP stream.\n",
    "\n"
   ]
  },
  {
   "cell_type": "code",
   "execution_count": null,
   "metadata": {},
   "outputs": [],
   "source": [
    "import degirum as dg, degirum_tools\n",
    "\n",
    "inference_host_address = \"@local\"\n",
    "zoo_url = \"degirum/hailo\"\n",
    "token = '' \n",
    "device_type = \"HAILORT/HAILO8L\"\n",
    "\n",
    "# set model name and video source\n",
    "model_name = 'yolov8n_relu6_coco--640x640_quant_hailort_hailo8l_1'\n",
    "video_source = \"rtsp://username:password@ip:port/cam/realmonitor?channel=1&subtype=0\" # replace with your camera rtsp stream\n",
    "\n",
    "# load model\n",
    "model = dg.load_model(\n",
    "    model_name=model_name, \n",
    "    inference_host_address=inference_host_address,\n",
    "    zoo_url=zoo_url,\n",
    "    token=token,\n",
    "    device_type=device_type\n",
    ")\n",
    "\n",
    "# run AI inference on video stream and display the results\n",
    "with degirum_tools.Display(\"AI Camera\") as output_display:\n",
    "    for inference_result in degirum_tools.predict_stream(model, video_source):\n",
    "        output_display.show(inference_result.image_overlay)        "
   ]
  }
 ],
 "metadata": {
  "kernelspec": {
   "display_name": "supervision",
   "language": "python",
   "name": "python3"
  },
  "language_info": {
   "codemirror_mode": {
    "name": "ipython",
    "version": 3
   },
   "file_extension": ".py",
   "mimetype": "text/x-python",
   "name": "python",
   "nbconvert_exporter": "python",
   "pygments_lexer": "ipython3",
   "version": "3.9.18"
  }
 },
 "nbformat": 4,
 "nbformat_minor": 2
}
