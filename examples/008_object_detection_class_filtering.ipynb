{
 "cells": [
  {
   "cell_type": "markdown",
   "metadata": {},
   "source": [
    "### Object detection with class filtering on an image\n",
    "This notebook is a simple example of how to use DeGirum PySDK to do object detection AI inference on an image file filtering only desired set of classes."
   ]
  },
  {
   "cell_type": "code",
   "execution_count": null,
   "metadata": {},
   "outputs": [],
   "source": [
    "import degirum as dg, degirum_tools\n",
    "\n",
    "inference_host_address = \"@local\"\n",
    "zoo_url = 'degirum/hailo'\n",
    "token=''\n",
    "device_type=['HAILORT/HAILO8L']\n",
    "\n",
    "# specify model name, image source and desired classes\n",
    "model_name = \"yolov8n_relu6_coco--640x640_quant_hailort_hailo8l_1\"\n",
    "image_source = \"../assets/bikes.jpg\"\n",
    "classes = {\"bicycle\"}\n",
    "\n",
    "# load model with set desired classes for output\n",
    "model = dg.load_model(\n",
    "    model_name=model_name,\n",
    "    inference_host_address=inference_host_address,\n",
    "    zoo_url=zoo_url,\n",
    "    token=token,\n",
    "    output_class_set = classes\n",
    ")\n",
    "\n",
    "# Run AI model on image\n",
    "inference_result = model(image_source)\n",
    "\n",
    "# print AI inference results\n",
    "print(inference_result)\n",
    "\n",
    "# AI prediction: show only desired classes\n",
    "with degirum_tools.Display(\"All classes (press 'q' to exit)\") as output_display:\n",
    "    output_display.show_image(inference_result)"
   ]
  }
 ],
 "metadata": {
  "kernelspec": {
   "display_name": "supervision",
   "language": "python",
   "name": "python3"
  },
  "language_info": {
   "codemirror_mode": {
    "name": "ipython",
    "version": 3
   },
   "file_extension": ".py",
   "mimetype": "text/x-python",
   "name": "python",
   "nbconvert_exporter": "python",
   "pygments_lexer": "ipython3",
   "version": "3.9.18"
  }
 },
 "nbformat": 4,
 "nbformat_minor": 2
}
