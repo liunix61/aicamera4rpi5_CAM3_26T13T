{
 "cells": [
  {
   "cell_type": "markdown",
   "metadata": {},
   "source": [
    "### Interactive Zone-Based Object Counting with DeGirum PySDK\n",
    "This script demonstrates how to perform object detection and counting within specific zones of interest using DeGirum PySDK. The key features include:\n",
    "\n",
    "- Model-Based Object Detection: Utilizes the YOLOv8 model to detect objects such as cars, motorbikes, and trucks from a video stream.\n",
    "- Zone-Based Counting: Counts objects within user-defined polygonal zones, defined as a list of coordinates.\n",
    "- Interactive Zone Adjustment: The zones of interest can be interactively adjusted in real-time using the mouse within the display window, providing flexibility to adapt to changing scenarios.\n",
    "- Customizable Output: Supports filtering specific object classes for counting and displays results per class.\n",
    "- Stream Processing: Processes video streams, displaying both the detected objects and zone-based analytics in a dedicated window.\n",
    "\n",
    "Simply define your zones, select the classes to track, and specify the video source to get started. This script is ideal for applications such as traffic monitoring, crowd analysis, and zone-specific surveillance."
   ]
  },
  {
   "cell_type": "code",
   "execution_count": null,
   "metadata": {},
   "outputs": [],
   "source": [
    "import degirum as dg, degirum_tools\n",
    "\n",
    "\n",
    "inference_host_address = \"@local\"\n",
    "zoo_url = \"degirum/hailo\"\n",
    "token = ''\n",
    "device_type = \"HAILORT/HAILO8L\"\n",
    "\n",
    "# set the model name and video source\n",
    "model_name = 'yolov8n_relu6_coco--640x640_quant_hailort_hailo8l_1'\n",
    "video_source = '../assets/Traffic.mp4'\n",
    "\n",
    "# define the zones of interest\n",
    "polygon_zones = [\n",
    "    [[265, 260], [730, 260], [870, 450], [120, 450]],\n",
    "    [[400, 100], [610, 100], [690, 200], [320, 200]],\n",
    "]\n",
    "\n",
    "# define class list and display options\n",
    "class_list = [\"car\", \"motorbike\", \"truck\"]\n",
    "per_class_display = True\n",
    "window_name=\"AI Camera\"\n",
    "\n",
    "# load model\n",
    "model = dg.load_model(\n",
    "    model_name=model_name, \n",
    "    inference_host_address=inference_host_address,\n",
    "    zoo_url=zoo_url,\n",
    "    token=token,\n",
    "    overlay_color=[(255,0,0)],\n",
    "    output_class_set = set(class_list)\n",
    ")\n",
    "\n",
    "# create zone counter\n",
    "zone_counter = degirum_tools.ZoneCounter(\n",
    "        polygon_zones,        \n",
    "        class_list=class_list,\n",
    "        per_class_display=per_class_display,\n",
    "        triggering_position=degirum_tools.AnchorPoint.CENTER,\n",
    "        window_name=window_name,  # attach display window for interactive zone adjustment\n",
    ")\n",
    "\n",
    "# attach zone counter to model\n",
    "degirum_tools.attach_analyzers(model, [zone_counter])\n",
    "\n",
    "# run inference and display results\n",
    "with degirum_tools.Display(window_name) as display:\n",
    "    for inference_result in degirum_tools.predict_stream(model, video_source,):\n",
    "        display.show(inference_result)"
   ]
  }
 ],
 "metadata": {
  "kernelspec": {
   "display_name": "supervision",
   "language": "python",
   "name": "python3"
  },
  "language_info": {
   "codemirror_mode": {
    "name": "ipython",
    "version": 3
   },
   "file_extension": ".py",
   "mimetype": "text/x-python",
   "name": "python",
   "nbconvert_exporter": "python",
   "pygments_lexer": "ipython3",
   "version": "3.9.18"
  }
 },
 "nbformat": 4,
 "nbformat_minor": 2
}
