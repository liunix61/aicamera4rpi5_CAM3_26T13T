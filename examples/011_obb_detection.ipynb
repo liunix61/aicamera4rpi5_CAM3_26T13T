{
 "cells": [
  {
   "cell_type": "markdown",
   "metadata": {},
   "source": [
    "## Oriented Bounding-Box (OBB) Detection Inference with DeGirum PySDK\n",
    "This notebook demonstrates OBB detection using DeGirum Pysdk on Hailo hardware."
   ]
  },
  {
   "cell_type": "code",
   "execution_count": null,
   "metadata": {},
   "outputs": [],
   "source": [
    "# import degirum and degirum_tools\n",
    "import degirum as dg, degirum_tools\n",
    "\n",
    "inference_host_address = \"@cloud\"\n",
    "zoo_url = \"degirum/hailo\"\n",
    "token = \"dg_EjYKXmYCmTWZmsZ5WS5LicfvhbQZSKZ7V3xKQ\"\n",
    "device_type = \"HAILORT/HAILO8L\"\n",
    "\n",
    "# set model name\n",
    "model_name = \"yolov8n_dota_obb--1024x1024_quant_hailort_multidevice_1\"\n",
    "\n",
    "# choose image source\n",
    "image_source = \"../assets/ParkingLot.jpg\"\n",
    "\n",
    "# load AI model\n",
    "model = dg.load_model(\n",
    "    model_name=model_name,\n",
    "    inference_host_address=inference_host_address,\n",
    "    zoo_url=zoo_url,\n",
    "    token=token,\n",
    "    device_type=device_type,    \n",
    ")\n",
    "\n",
    "# perform AI model inference on given image source\n",
    "print(f\" Running inference using '{model_name}' on image source '{image_source}'\")\n",
    "inference_result = model(image_source)\n",
    "\n",
    "# print('Inference Results \\n', inference_result)  # numeric results\n",
    "print(inference_result)\n",
    "print(\"Press 'x' or 'q' to stop.\")\n",
    "\n",
    "# show results of inference\n",
    "with degirum_tools.Display(\"AI Camera\") as output_display:\n",
    "    output_display.show_image(inference_result.image_overlay)"
   ]
  },
  {
   "cell_type": "code",
   "execution_count": null,
   "metadata": {},
   "outputs": [],
   "source": []
  }
 ],
 "metadata": {
  "kernelspec": {
   "display_name": "supervision",
   "language": "python",
   "name": "python3"
  },
  "language_info": {
   "codemirror_mode": {
    "name": "ipython",
    "version": 3
   },
   "file_extension": ".py",
   "mimetype": "text/x-python",
   "name": "python",
   "nbconvert_exporter": "python",
   "pygments_lexer": "ipython3",
   "version": "3.10.0"
  }
 },
 "nbformat": 4,
 "nbformat_minor": 2
}
