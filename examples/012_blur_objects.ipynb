{
  "nbformat": 4,
  "nbformat_minor": 0,
  "metadata": {
    "colab": {
      "provenance": []
    },
    "kernelspec": {
      "name": "python3",
      "display_name": "Python 3"
    },
    "language_info": {
      "name": "python"
    }
  },
  "cells": [
    {
      "cell_type": "markdown",
      "source": [
        "# Blur objects using PySDK\n",
        "This notebook demonstrates how to blur a detected object using DeGirum PySDK by specifying `overlay_blur` property while loading a model. You can specify the object class which you want to blur. You can change the model zoo url and the model name that you want to run. Rest of the cells should run as is."
      ],
      "metadata": {
        "id": "Yf3GO_kgql69"
      }
    },
    {
      "cell_type": "code",
      "execution_count": null,
      "metadata": {
        "id": "jzm7_DZFp1ss"
      },
      "outputs": [],
      "source": [
        "import degirum as dg\n",
        "import degirum_tools\n",
        "\n",
        "inference_host_address  = \"@local\"\n",
        "zoo_url = \"degirum/hailo\"\n",
        "model_name = \"yolov8n_coco--640x640_quant_hailort_hailo8l_1\"\n",
        "token = \"\"\n",
        "device_type = \"HAILORT/HAILO8L\"\n",
        "\n",
        "# choose image source\n",
        "image_source = \"../assets/car_and_person.jpg\"\n",
        "\n",
        "# load the model from DeGirum's public model zoo to run in the cloud\n",
        "model = dg.load_model(\n",
        "    model_name = model_name,\n",
        "    inference_host_address = inference_host_address,\n",
        "    zoo_url = zoo_url,\n",
        "    token = token,\n",
        "    image_backend='pil',\n",
        "    overlay_blur = \"person\"  # If you want to blur all objects detected, use overlay_blur = all\n",
        ")\n",
        "\n",
        "# run inference on the image and see results\n",
        "print(f\" Running inference using '{model_name}' on image source '{image_source}'\")\n",
        "result = model(image_source)\n",
        "\n",
        "with degirum_tools.Display() as display:\n",
        "    display.show_image(result.image_overlay)"
      ]
    }
  ]
}
